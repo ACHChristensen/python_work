{
 "cells": [
  {
   "cell_type": "markdown",
   "metadata": {},
   "source": [
    "## Exercise"
   ]
  },
  {
   "cell_type": "markdown",
   "metadata": {},
   "source": [
    "1. Create 5 list comprehensions to solve the following 5 problems:\n",
    "  1. Iterate a list of names to return a list of the names starting with H"
   ]
  },
  {
   "cell_type": "code",
   "execution_count": 1,
   "metadata": {},
   "outputs": [
    {
     "data": {
      "text/plain": [
       "['Helena', 'Henrik', 'Hans']"
      ]
     },
     "execution_count": 1,
     "metadata": {},
     "output_type": "execute_result"
    }
   ],
   "source": [
    "name_list = [\"Børge\", \"Helena\", \"Henrik\", \"Gurli\", \"Charlotte\", \"Hans\", \"Cathrine\"]\n",
    "\n",
    "def names_starts_with_H(names):\n",
    "    return [name for name in names if name[0] == 'H']\n",
    "\n",
    "names_starts_with_H(name_list)"
   ]
  },
  {
   "cell_type": "markdown",
   "metadata": {},
   "source": [
    "B. In one line create a list of the numbers 1-100 to the power of 3"
   ]
  },
  {
   "cell_type": "code",
   "execution_count": 2,
   "metadata": {},
   "outputs": [
    {
     "name": "stdout",
     "output_type": "stream",
     "text": [
      "[0, 1, 8, 27, 64, 125, 216, 343, 512, 729, 1000, 1331, 1728, 2197, 2744, 3375, 4096, 4913, 5832, 6859, 8000, 9261, 10648, 12167, 13824, 15625, 17576, 19683, 21952, 24389, 27000, 29791, 32768, 35937, 39304, 42875, 46656, 50653, 54872, 59319, 64000, 68921, 74088, 79507, 85184, 91125, 97336, 103823, 110592, 117649, 125000, 132651, 140608, 148877, 157464, 166375, 175616, 185193, 195112, 205379, 216000, 226981, 238328, 250047, 262144, 274625, 287496, 300763, 314432, 328509, 343000, 357911, 373248, 389017, 405224, 421875, 438976, 456533, 474552, 493039, 512000, 531441, 551368, 571787, 592704, 614125, 636056, 658503, 681472, 704969, 729000, 753571, 778688, 804357, 830584, 857375, 884736, 912673, 941192, 970299, 1000000]\n"
     ]
    }
   ],
   "source": [
    "print([i**3 for i in range(101)])\n"
   ]
  },
  {
   "cell_type": "markdown",
   "metadata": {},
   "source": [
    "C. Iterate a list of names to create a list of tuples where the tuples first value is the length of the name and the second is the name"
   ]
  },
  {
   "cell_type": "code",
   "execution_count": 3,
   "metadata": {},
   "outputs": [
    {
     "data": {
      "text/plain": [
       "[(5, 'Børge'),\n",
       " (6, 'Helena'),\n",
       " (6, 'Henrik'),\n",
       " (5, 'Gurli'),\n",
       " (9, 'Charlotte'),\n",
       " (4, 'Hans'),\n",
       " (8, 'Cathrine')]"
      ]
     },
     "execution_count": 3,
     "metadata": {},
     "output_type": "execute_result"
    }
   ],
   "source": [
    "def my_name_tuple(names):\n",
    "    return [(len(name), name) for name in names]\n",
    "    \n",
    "my_name_tuple(name_list)"
   ]
  },
  {
   "cell_type": "markdown",
   "metadata": {},
   "source": [
    "D. Iterate over each character in a string and get only those that are nummeric"
   ]
  },
  {
   "cell_type": "code",
   "execution_count": 4,
   "metadata": {},
   "outputs": [
    {
     "data": {
      "text/plain": [
       "['9', '3', '2', '3', '4', '0', '1', '0']"
      ]
     },
     "execution_count": 4,
     "metadata": {},
     "output_type": "execute_result"
    }
   ],
   "source": [
    "list_with_numbers = \"<+9=I#EJF#)3i23+40FJ=#K=#10)#URM?\"\n",
    "\n",
    "def only_numbers(list_to_sort):\n",
    "    return [number for number in list_to_sort if number.isnumeric()]\n",
    "    \n",
    "only_numbers(list_with_numbers)"
   ]
  },
  {
   "cell_type": "markdown",
   "metadata": {},
   "source": [
    "E. Using only a list comprehension wrapped in set() get all possible combination from throwing 2 dice (hint use 2 for loops in a single list comprehension)"
   ]
  },
  {
   "cell_type": "code",
   "execution_count": 5,
   "metadata": {},
   "outputs": [
    {
     "name": "stdout",
     "output_type": "stream",
     "text": [
      "{(1, 3), (6, 6), (5, 6), (1, 6), (2, 5), (1, 2), (3, 3), (5, 5), (4, 4), (1, 5), (3, 6), (2, 2), (1, 1), (2, 6), (4, 5), (1, 4), (2, 3), (3, 5), (4, 6), (3, 4), (2, 4)}\n"
     ]
    }
   ],
   "source": [
    "def two_dice():\n",
    "    return set([tuple(sorted([dice1,dice2])) for dice1 in range(1,7) for dice2 in range(1,7)]) \n",
    "\n",
    "print(two_dice())"
   ]
  },
  {
   "cell_type": "markdown",
   "metadata": {},
   "source": [
    "2. Create 2 dictionary comprehensions to solve the following:\n",
    "\n",
    "  A. Iterate a list of names and create a dictionary where key is the name and value is the length of the name"
   ]
  },
  {
   "cell_type": "code",
   "execution_count": 6,
   "metadata": {},
   "outputs": [
    {
     "data": {
      "text/plain": [
       "{'Børge': 5,\n",
       " 'Helena': 6,\n",
       " 'Henrik': 6,\n",
       " 'Gurli': 5,\n",
       " 'Charlotte': 9,\n",
       " 'Hans': 4,\n",
       " 'Cathrine': 8}"
      ]
     },
     "execution_count": 6,
     "metadata": {},
     "output_type": "execute_result"
    }
   ],
   "source": [
    "def dict1(names):\n",
    "    return {name : len(name) for name in names}\n",
    "    \n",
    "dict1(name_list)"
   ]
  },
  {
   "cell_type": "markdown",
   "metadata": {},
   "source": [
    "B. Iterate a list of numbers and create a dictionary with {key:value} being {number:squareroot_of_number}"
   ]
  },
  {
   "cell_type": "code",
   "execution_count": 7,
   "metadata": {},
   "outputs": [
    {
     "data": {
      "text/plain": [
       "{9: 3.0, 3: 1.7320508075688772, 2: 1.4142135623730951, 4: 2.0, 0: 0.0, 1: 1.0}"
      ]
     },
     "execution_count": 7,
     "metadata": {},
     "output_type": "execute_result"
    }
   ],
   "source": [
    "from math import sqrt\n",
    "\n",
    "def dict2(numbers):\n",
    "    return {int(number) : sqrt(int(number)) for number in numbers}\n",
    "\n",
    "dict2(only_numbers(list_with_numbers))"
   ]
  },
  {
   "cell_type": "markdown",
   "metadata": {},
   "source": [
    "3. Extra assignment (This one goes beyond what is covered in the course notebooks. So only do it if you want an extra challenge).\n",
    "\n",
    "Progammatically using loops create a small program to produce a dictionary with all the 2 dice throw combinations as keys (eg: 2,3,4...etc) and their likelyhood in percent as values"
   ]
  },
  {
   "cell_type": "code",
   "execution_count": 9,
   "metadata": {},
   "outputs": [
    {
     "data": {
      "text/plain": [
       "{2: '0.028 %',\n",
       " 3: '0.056 %',\n",
       " 4: '0.083 %',\n",
       " 5: '0.111 %',\n",
       " 6: '0.139 %',\n",
       " 7: '0.167 %',\n",
       " 8: '0.139 %',\n",
       " 9: '0.111 %',\n",
       " 10: '0.083 %',\n",
       " 11: '0.056 %',\n",
       " 12: '0.028 %'}"
      ]
     },
     "execution_count": 9,
     "metadata": {},
     "output_type": "execute_result"
    }
   ],
   "source": [
    "def likelyhood_two_dice(sides_of_dice):\n",
    "    outcome = []\n",
    "    for dice1 in range(1,sides_of_dice+1):\n",
    "        for dice2 in range(1,sides_of_dice+1):\n",
    "            outcome.append(dice1+dice2)\n",
    "    return {dice_combo : str(round(outcome.count(dice_combo)/len(outcome), 3)) + \" %\" for dice_combo in outcome}\n",
    "\n",
    "likelyhood_two_dice(6)"
   ]
  }
 ],
 "metadata": {
  "kernelspec": {
   "display_name": "Python 3",
   "language": "python",
   "name": "python3"
  },
  "language_info": {
   "codemirror_mode": {
    "name": "ipython",
    "version": 3
   },
   "file_extension": ".py",
   "mimetype": "text/x-python",
   "name": "python",
   "nbconvert_exporter": "python",
   "pygments_lexer": "ipython3",
   "version": "3.7.6"
  }
 },
 "nbformat": 4,
 "nbformat_minor": 4
}
